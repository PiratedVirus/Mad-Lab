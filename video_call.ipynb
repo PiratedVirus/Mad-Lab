{
  "nbformat": 4,
  "nbformat_minor": 0,
  "metadata": {
    "colab": {
      "provenance": [],
      "authorship_tag": "ABX9TyNk7gM/mj2yahqKD1AiyuBi",
      "include_colab_link": true
    },
    "kernelspec": {
      "name": "python3",
      "display_name": "Python 3"
    },
    "language_info": {
      "name": "python"
    }
  },
  "cells": [
    {
      "cell_type": "markdown",
      "metadata": {
        "id": "view-in-github",
        "colab_type": "text"
      },
      "source": [
        "<a href=\"https://colab.research.google.com/github/PiratedVirus/Mad-Lab/blob/master/video_call.ipynb\" target=\"_parent\"><img src=\"https://colab.research.google.com/assets/colab-badge.svg\" alt=\"Open In Colab\"/></a>"
      ]
    },
    {
      "cell_type": "code",
      "source": [
        "# GPU optional\n",
        "!nvidia-smi -L || echo \"No NVIDIA GPU detected.\"\n",
        "\n",
        "# System deps\n",
        "!apt -yq update >/dev/null\n",
        "!apt -yq install -y ffmpeg >/dev/null\n",
        "\n",
        "# Python deps (no streamlit-webrtc / no aiortc / no av pin)\n",
        "!pip -q install --upgrade pip wheel setuptools\n",
        "!pip -q install streamlit==1.36.0 streamlit-mic-recorder==0.0.4 pycloudflared==0.2.0\n",
        "!pip -q install faster-whisper==1.0.3 transformers==4.42.4 sentencepiece==0.2.0\n",
        "!pip -q install soundfile==0.12.1 numpy==1.26.4"
      ],
      "metadata": {
        "colab": {
          "base_uri": "https://localhost:8080/"
        },
        "id": "hsf6jRqaDYTC",
        "outputId": "56f44158-384d-4ffe-b719-cd419bfe494b"
      },
      "execution_count": null,
      "outputs": [
        {
          "output_type": "stream",
          "name": "stdout",
          "text": [
            "/bin/bash: line 1: nvidia-smi: command not found\n",
            "No NVIDIA GPU detected.\n",
            "\n",
            "WARNING: apt does not have a stable CLI interface. Use with caution in scripts.\n",
            "\n",
            "W: Skipping acquire of configured file 'main/source/Sources' as repository 'https://r2u.stat.illinois.edu/ubuntu jammy InRelease' does not seem to provide it (sources.list entry misspelt?)\n",
            "\n",
            "WARNING: apt does not have a stable CLI interface. Use with caution in scripts.\n",
            "\n"
          ]
        }
      ]
    },
    {
      "cell_type": "code",
      "source": [
        "import os, pathlib, subprocess, sys, shutil\n",
        "\n",
        "BIN_DIR = pathlib.Path(\"/content/piper_bin\")\n",
        "BIN_DIR.mkdir(parents=True, exist_ok=True)\n",
        "\n",
        "# Clean any broken partials\n",
        "for p in [\"/content/piper.tgz\", \"/content/piper_linux_x86_64.tar.gz\", \"/content/piper_1.2.0_linux_x86_64.tar.gz\"]:\n",
        "    if os.path.exists(p):\n",
        "        os.remove(p)\n",
        "\n",
        "# Try multiple known asset names across versions\n",
        "CANDIDATES = [\n",
        "    \"https://github.com/rhasspy/piper/releases/download/v1.2.0/piper_1.2.0_linux_x86_64.tar.gz\",\n",
        "    \"https://github.com/rhasspy/piper/releases/download/v1.2.0/piper_linux_x86_64.tar.gz\",\n",
        "    \"https://github.com/rhasspy/piper/releases/download/v1.1.0/piper_linux_x86_64.tar.gz\",\n",
        "    \"https://github.com/rhasspy/piper/releases/download/v1.0.0/piper_linux_x86_64.tar.gz\",\n",
        "]\n",
        "\n",
        "ok = False\n",
        "for url in CANDIDATES:\n",
        "    print(\"Trying:\", url)\n",
        "    rc = os.system(f\"wget -q -O /content/piper.tgz -L --tries=3 --timeout=20 '{url}'\")\n",
        "    if rc != 0:\n",
        "        continue\n",
        "    # Validate tarball before extracting\n",
        "    rc = os.system(\"tar -tzf /content/piper.tgz >/dev/null 2>&1\")\n",
        "    if rc == 0:\n",
        "        ok = True\n",
        "        break\n",
        "\n",
        "if not ok:\n",
        "    print(\"⚠️ Could not download a valid Piper tarball. You can still use espeak-ng fallback.\")\n",
        "else:\n",
        "    # Extract and move binary\n",
        "    os.system(\"tar -xzf /content/piper.tgz -C /content\")\n",
        "    # Find the 'piper' binary wherever it extracted\n",
        "    found = None\n",
        "    for root, dirs, files in os.walk(\"/content\"):\n",
        "        if \"piper\" in files:\n",
        "            candidate = os.path.join(root, \"piper\")\n",
        "            if os.path.isfile(candidate):\n",
        "                found = candidate\n",
        "                break\n",
        "    if found:\n",
        "        shutil.move(found, BIN_DIR / \"piper\")\n",
        "        os.chmod(BIN_DIR / \"piper\", 0o755)\n",
        "        print(\"✅ Piper binary ready at:\", BIN_DIR / \"piper\")\n",
        "    else:\n",
        "        print(\"⚠️ Piper binary not found after extraction. Will rely on fallback.\")\n",
        "\n",
        "# Voice (US English Lessac - high quality)\n",
        "VOICE_DIR = pathlib.Path(\"/content/models/piper\")\n",
        "VOICE_DIR.mkdir(parents=True, exist_ok=True)\n",
        "if not (VOICE_DIR/\"en_US-lessac-high.onnx\").exists():\n",
        "    os.system(\"wget -q -O /content/models/piper/en_US-lessac-high.onnx https://github.com/rhasspy/piper/releases/download/v1.2.0/en_US-lessac-high.onnx\")\n",
        "    os.system(\"wget -q -O /content/models/piper/en_US-lessac-high.onnx.json https://github.com/rhasspy/piper/releases/download/v1.2.0/en_US-lessac-high.onnx.json\")\n",
        "\n",
        "print(\"Voice exists:\", (VOICE_DIR/\"en_US-lessac-high.onnx\").exists())"
      ],
      "metadata": {
        "colab": {
          "base_uri": "https://localhost:8080/"
        },
        "id": "NSxlM0D-DjQO",
        "outputId": "cb1fe710-97dd-4a46-9c22-128e7398ed67"
      },
      "execution_count": null,
      "outputs": [
        {
          "output_type": "stream",
          "name": "stdout",
          "text": [
            "Trying: https://github.com/rhasspy/piper/releases/download/v1.2.0/piper_1.2.0_linux_x86_64.tar.gz\n",
            "Trying: https://github.com/rhasspy/piper/releases/download/v1.2.0/piper_linux_x86_64.tar.gz\n",
            "Trying: https://github.com/rhasspy/piper/releases/download/v1.1.0/piper_linux_x86_64.tar.gz\n",
            "Trying: https://github.com/rhasspy/piper/releases/download/v1.0.0/piper_linux_x86_64.tar.gz\n",
            "⚠️ Could not download a valid Piper tarball. You can still use espeak-ng fallback.\n",
            "Voice exists: True\n"
          ]
        }
      ]
    },
    {
      "cell_type": "code",
      "source": [
        "!apt -yq install espeak-ng >/dev/null\n",
        "!espeak-ng --version | head -n 1"
      ],
      "metadata": {
        "colab": {
          "base_uri": "https://localhost:8080/"
        },
        "id": "wvHzIMqAEjEE",
        "outputId": "d2d6f29f-a56a-4c9d-97ce-bf91d44e8b40"
      },
      "execution_count": null,
      "outputs": [
        {
          "output_type": "stream",
          "name": "stdout",
          "text": [
            "\n",
            "WARNING: apt does not have a stable CLI interface. Use with caution in scripts.\n",
            "\n",
            "eSpeak NG text-to-speech: 1.50  Data at: /usr/lib/x86_64-linux-gnu/espeak-ng-data\n"
          ]
        }
      ]
    },
    {
      "cell_type": "code",
      "source": [
        "%%writefile /content/app.py\n",
        "import os, io, tempfile, subprocess\n",
        "from typing import Optional, Tuple\n",
        "\n",
        "import numpy as np\n",
        "import soundfile as sf\n",
        "import streamlit as st\n",
        "from streamlit_mic_recorder import mic_recorder\n",
        "from faster_whisper import WhisperModel\n",
        "\n",
        "st.set_page_config(page_title=\"Realtime Any→English Translator (POC)\", layout=\"wide\")\n",
        "st.title(\"🌍 Realtime Any→English Translator (POC)\")\n",
        "st.caption(\"No templates • Whisper for LID+Translate • TTS: Piper/espeak-ng • No storage\")\n",
        "\n",
        "# Runtime (tune via env or defaults below)\n",
        "WHISPER_MODEL_NAME = os.getenv(\"WHISPER_MODEL\", \"base\")     # \"tiny\" | \"base\" | \"small\"\n",
        "WHISPER_COMPUTE    = os.getenv(\"WHISPER_COMPUTE\", \"int8\")   # \"int8\" (CPU) | \"float16\" (GPU)\n",
        "\n",
        "PIPER_BIN  = \"/content/piper_bin/piper\"                     # optional binary\n",
        "PIPER_ONNX = \"/content/models/piper/en_US-lessac-high.onnx\"\n",
        "PIPER_JSON = \"/content/models/piper/en_US-lessac-high.onnx.json\"\n",
        "\n",
        "@st.cache_resource(show_spinner=True)\n",
        "def load_whisper():\n",
        "    return WhisperModel(WHISPER_MODEL_NAME, compute_type=WHISPER_COMPUTE)\n",
        "\n",
        "whisper = load_whisper()\n",
        "\n",
        "def espeak_tts_to_wav_bytes(text: str) -> bytes:\n",
        "    with tempfile.NamedTemporaryFile(suffix=\".wav\", delete=False) as f_out:\n",
        "        out_wav = f_out.name\n",
        "    try:\n",
        "        cmd = [\"espeak-ng\",\"-v\",\"en-us\",\"-s\",\"170\",\"-w\",out_wav,text]\n",
        "        subprocess.run(cmd, check=True, stdout=subprocess.PIPE, stderr=subprocess.PIPE)\n",
        "        with open(out_wav, \"rb\") as f: return f.read()\n",
        "    finally:\n",
        "        try: os.remove(out_wav)\n",
        "        except FileNotFoundError: pass\n",
        "\n",
        "def piper_tts_to_wav_bytes(text: str) -> Optional[bytes]:\n",
        "    if not os.path.exists(PIPER_BIN): return None\n",
        "    with tempfile.NamedTemporaryFile(suffix=\".wav\", delete=False) as f_out:\n",
        "        out_wav = f_out.name\n",
        "    try:\n",
        "        cmd = [PIPER_BIN,\"--model\",PIPER_ONNX,\"--config\",PIPER_JSON,\"--output_file\",out_wav]\n",
        "        subprocess.run(cmd, input=text.encode(\"utf-8\"), check=True,\n",
        "                       stdout=subprocess.PIPE, stderr=subprocess.PIPE)\n",
        "        with open(out_wav, \"rb\") as f: return f.read()\n",
        "    finally:\n",
        "        try: os.remove(out_wav)\n",
        "        except FileNotFoundError: pass\n",
        "\n",
        "def whisper_once(wav_path: str, task: str, language: Optional[str]=None):\n",
        "    \"\"\"\n",
        "    task: \"transcribe\" (same language) or \"translate\" (to English).\n",
        "    language=None => Whisper auto-detects (no hard-coded lists).\n",
        "    Returns (text, detected_lang, lang_prob, avg_logprob)\n",
        "    \"\"\"\n",
        "    segs, info = whisper.transcribe(\n",
        "        wav_path,\n",
        "        language=language,\n",
        "        task=task,\n",
        "        vad_filter=True,\n",
        "        vad_parameters={\"min_silence_duration_ms\": 200},\n",
        "        condition_on_previous_text=False,\n",
        "        temperature=0.0,\n",
        "        beam_size=5,\n",
        "        best_of=5,\n",
        "        compression_ratio_threshold=2.4,\n",
        "        log_prob_threshold=-1.0,\n",
        "        no_speech_threshold=0.6\n",
        "    )\n",
        "    text = \" \".join([s.text.strip() for s in segs]).strip()\n",
        "    lid  = getattr(info, \"language\", None)\n",
        "    lidp = float(getattr(info, \"language_probability\", 0.0) or 0.0)\n",
        "    lp   = [getattr(s, \"avg_logprob\", None) for s in segs]\n",
        "    lp   = float(np.mean([x for x in lp if x is not None])) if lp and any(t is not None for t in lp) else -99.0\n",
        "    return text, lid, lidp, lp\n",
        "\n",
        "# UI\n",
        "st.markdown(\"**Step 1 — Record a short clip (~3–4s helps for language detection):**\")\n",
        "audio = mic_recorder(start_prompt=\"Start recording\", stop_prompt=\"Stop\", just_once=False)\n",
        "\n",
        "if audio and \"bytes\" in audio:\n",
        "    # Save the recorded bytes as a temp WAV for Whisper\n",
        "    with tempfile.NamedTemporaryFile(suffix=\".wav\", delete=False) as f:\n",
        "        f.write(audio[\"bytes\"])\n",
        "        wav_path = f.name\n",
        "\n",
        "    # 1) Transcribe in original language (auto-detect)\n",
        "    orig_text, lid, lid_prob, lp = whisper_once(wav_path, task=\"transcribe\", language=None)\n",
        "\n",
        "    # 2) Translate directly to English (auto)\n",
        "    en_text, _, _, _ = whisper_once(wav_path, task=\"translate\", language=None)\n",
        "\n",
        "    os.remove(wav_path)\n",
        "\n",
        "    st.markdown(f\"**Detected Language:** `{lid or 'unknown'}`  • confidence: `{lid_prob:.2f}`\")\n",
        "    st.markdown(\"**Original Text (auto):**\")\n",
        "    st.code(orig_text or \"—\")\n",
        "\n",
        "    st.markdown(\"**English Translation (Whisper):**\")\n",
        "    st.code(en_text or \"—\")\n",
        "\n",
        "    if en_text and st.button(\"Speak English\"):\n",
        "        audio_bytes = piper_tts_to_wav_bytes(en_text) or espeak_tts_to_wav_bytes(en_text)\n",
        "        st.audio(audio_bytes, format=\"audio/wav\")\n",
        "else:\n",
        "    st.info(\"Click **Start recording**, speak, then click **Stop**.\")"
      ],
      "metadata": {
        "colab": {
          "base_uri": "https://localhost:8080/"
        },
        "id": "dyYwUpexHIPF",
        "outputId": "b1812379-469c-487d-c247-897f6e662894"
      },
      "execution_count": null,
      "outputs": [
        {
          "output_type": "stream",
          "name": "stdout",
          "text": [
            "Overwriting /content/app.py\n"
          ]
        }
      ]
    },
    {
      "cell_type": "code",
      "source": [
        "import os, threading, time\n",
        "from pycloudflared import try_cloudflare\n",
        "\n",
        "# Good defaults for CPU runtimes\n",
        "os.environ[\"WHISPER_MODEL\"] = \"base\"   # use \"small\" for better accuracy if you can tolerate slower\n",
        "os.environ[\"WHISPER_COMPUTE\"] = \"int8\"\n",
        "\n",
        "def run_streamlit():\n",
        "    os.system(\"streamlit run /content/app.py --server.port 8501 --server.headless true\")\n",
        "\n",
        "t = threading.Thread(target=run_streamlit, daemon=True); t.start()\n",
        "time.sleep(3)\n",
        "print(\"Public URL:\", try_cloudflare(port=8501))"
      ],
      "metadata": {
        "colab": {
          "base_uri": "https://localhost:8080/"
        },
        "id": "z8FyYfkYHJJt",
        "outputId": "ffd37f60-a56e-4827-96f0-dd57e9085467"
      },
      "execution_count": null,
      "outputs": [
        {
          "output_type": "stream",
          "name": "stdout",
          "text": [
            " * Running on https://kijiji-thumbzilla-november-gibraltar.trycloudflare.com\n",
            " * Traffic stats available on http://127.0.0.1:20241/metrics\n",
            "Public URL: Urls(tunnel='https://kijiji-thumbzilla-november-gibraltar.trycloudflare.com', metrics='http://127.0.0.1:20241/metrics', process=<Popen: returncode: None args: ['/usr/local/lib/python3.12/dist-packages/pyc...>)\n"
          ]
        }
      ]
    }
  ]
}